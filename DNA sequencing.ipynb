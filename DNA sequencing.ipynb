{
 "cells": [
  {
   "cell_type": "code",
   "execution_count": 1,
   "metadata": {},
   "outputs": [
    {
     "data": {
      "text/html": [
       "<div>\n",
       "<style scoped>\n",
       "    .dataframe tbody tr th:only-of-type {\n",
       "        vertical-align: middle;\n",
       "    }\n",
       "\n",
       "    .dataframe tbody tr th {\n",
       "        vertical-align: top;\n",
       "    }\n",
       "\n",
       "    .dataframe thead th {\n",
       "        text-align: right;\n",
       "    }\n",
       "</style>\n",
       "<table border=\"1\" class=\"dataframe\">\n",
       "  <thead>\n",
       "    <tr style=\"text-align: right;\">\n",
       "      <th></th>\n",
       "      <th>sequence</th>\n",
       "      <th>class</th>\n",
       "    </tr>\n",
       "  </thead>\n",
       "  <tbody>\n",
       "    <tr>\n",
       "      <th>0</th>\n",
       "      <td>ATGCCCCAACTAAATACTACCGTATGGCCCACCATAATTACCCCCA...</td>\n",
       "      <td>4</td>\n",
       "    </tr>\n",
       "    <tr>\n",
       "      <th>1</th>\n",
       "      <td>ATGAACGAAAATCTGTTCGCTTCATTCATTGCCCCCACAATCCTAG...</td>\n",
       "      <td>4</td>\n",
       "    </tr>\n",
       "    <tr>\n",
       "      <th>2</th>\n",
       "      <td>ATGTGTGGCATTTGGGCGCTGTTTGGCAGTGATGATTGCCTTTCTG...</td>\n",
       "      <td>3</td>\n",
       "    </tr>\n",
       "    <tr>\n",
       "      <th>3</th>\n",
       "      <td>ATGTGTGGCATTTGGGCGCTGTTTGGCAGTGATGATTGCCTTTCTG...</td>\n",
       "      <td>3</td>\n",
       "    </tr>\n",
       "    <tr>\n",
       "      <th>4</th>\n",
       "      <td>ATGCAACAGCATTTTGAATTTGAATACCAGACCAAAGTGGATGGTG...</td>\n",
       "      <td>3</td>\n",
       "    </tr>\n",
       "  </tbody>\n",
       "</table>\n",
       "</div>"
      ],
      "text/plain": [
       "                                            sequence  class\n",
       "0  ATGCCCCAACTAAATACTACCGTATGGCCCACCATAATTACCCCCA...      4\n",
       "1  ATGAACGAAAATCTGTTCGCTTCATTCATTGCCCCCACAATCCTAG...      4\n",
       "2  ATGTGTGGCATTTGGGCGCTGTTTGGCAGTGATGATTGCCTTTCTG...      3\n",
       "3  ATGTGTGGCATTTGGGCGCTGTTTGGCAGTGATGATTGCCTTTCTG...      3\n",
       "4  ATGCAACAGCATTTTGAATTTGAATACCAGACCAAAGTGGATGGTG...      3"
      ]
     },
     "execution_count": 1,
     "metadata": {},
     "output_type": "execute_result"
    }
   ],
   "source": [
    "import pandas as pd\n",
    "import numpy as np\n",
    "import re\n",
    "import matplotlib.pyplot as plt\n",
    "%matplotlib inline\n",
    "human_dna = pd.read_table('human_data.txt')\n",
    "human_dna.head()"
   ]
  },
  {
   "cell_type": "code",
   "execution_count": 2,
   "metadata": {},
   "outputs": [
    {
     "data": {
      "text/plain": [
       "Text(0.5, 1.0, 'Class distribution of Human NA')"
      ]
     },
     "execution_count": 2,
     "metadata": {},
     "output_type": "execute_result"
    },
    {
     "data": {
      "image/png": "[encoded data removed]",
      "text/plain": [
       "<Figure size 432x288 with 1 Axes>"
      ]
     },
     "metadata": {
      "needs_background": "light"
     },
     "output_type": "display_data"
    }
   ],
   "source": [
    "human_dna['class'].value_counts().sort_index().plot.bar()\n",
    "plt.title(\"Class distribution of Human NA\")"
   ]
  },
  {
   "cell_type": "code",
   "execution_count": 3,
   "metadata": {},
   "outputs": [
    {
     "name": "stdout",
     "output_type": "stream",
     "text": [
      "ATGCCCCAACTAAATACTACCGTATGGCCCACCATAATTACCCCCATACTCCTTACACTATTCCTCATCACCCAACTAAAAATATTAAACACAAACTACCACCTACCTCCCTCACCAAAGCCCATAAAAATAAAAAATTATAACAAACCCTGAGAACCAAAATGAACGAAAATCTGTTCGCTTCATTCATTGCCCCCACAATCCTAG\n",
      "\n"
     ]
    }
   ],
   "source": [
    "#lets descripe one dna sequence of human\n",
    "one_dna = np.array(human_dna.head(1))\n",
    "one_dna = str(one_dna).split(' ')\n",
    "seq = one_dna[0].replace(\"[['\",'')\n",
    "seq = seq.replace(\"'\",'')\n",
    "print(seq)"
   ]
  },
  {
   "cell_type": "code",
   "execution_count": 4,
   "metadata": {},
   "outputs": [
    {
     "data": {
      "text/plain": [
       "array(['a', 't', 'g', 'c', 'c', 'c', 'c', 'a', 'a', 'c', 't', 'a', 'a',\n",
       "       'a', 't', 'a', 'c', 't', 'a', 'c', 'c', 'g', 't', 'a', 't', 'g',\n",
       "       'g', 'c', 'c', 'c', 'a', 'c', 'c', 'a', 't', 'a', 'a', 't', 't',\n",
       "       'a', 'c', 'c', 'c', 'c', 'c', 'a', 't', 'a', 'c', 't', 'c', 'c',\n",
       "       't', 't', 'a', 'c', 'a', 'c', 't', 'a', 't', 't', 'c', 'c', 't',\n",
       "       'c', 'a', 't', 'c', 'a', 'c', 'c', 'c', 'a', 'a', 'c', 't', 'a',\n",
       "       'a', 'a', 'a', 'a', 't', 'a', 't', 't', 'a', 'a', 'a', 'c', 'a',\n",
       "       'c', 'a', 'a', 'a', 'c', 't', 'a', 'c', 'c', 'a', 'c', 'c', 't',\n",
       "       'a', 'c', 'c', 't', 'c', 'c', 'c', 't', 'c', 'a', 'c', 'c', 'a',\n",
       "       'a', 'a', 'g', 'c', 'c', 'c', 'a', 't', 'a', 'a', 'a', 'a', 'a',\n",
       "       't', 'a', 'a', 'a', 'a', 'a', 'a', 't', 't', 'a', 't', 'a', 'a',\n",
       "       'c', 'a', 'a', 'a', 'c', 'c', 'c', 't', 'g', 'a', 'g', 'a', 'a',\n",
       "       'c', 'c', 'a', 'a', 'a', 'a', 't', 'g', 'a', 'a', 'c', 'g', 'a',\n",
       "       'a', 'a', 'a', 't', 'c', 't', 'g', 't', 't', 'c', 'g', 'c', 't',\n",
       "       't', 'c', 'a', 't', 't', 'c', 'a', 't', 't', 'g', 'c', 'c', 'c',\n",
       "       'c', 'c', 'a', 'c', 'a', 'a', 't', 'c', 'c', 't', 'a', 'g', 'z'],\n",
       "      dtype='<U1')"
      ]
     },
     "execution_count": 4,
     "metadata": {},
     "output_type": "execute_result"
    }
   ],
   "source": [
    "#create list of lovercase char and check if any char not in (a, c, g, t) put it as (z) char\n",
    "def string_to_array(seq_string):\n",
    "    seq_string = seq_string.lower()\n",
    "    seq_string = re.sub('[^acgt]', 'z', seq_string)\n",
    "    seq_string = np.array(list(seq_string))\n",
    "    return seq_string\n",
    "string_to_array(seq)"
   ]
  },
  {
   "cell_type": "code",
   "execution_count": 5,
   "metadata": {},
   "outputs": [
    {
     "name": "stdout",
     "output_type": "stream",
     "text": [
      "[0 3 3 1 2 4 4 4 2 3 2]\n"
     ]
    },
    {
     "data": {
      "text/plain": [
       "array([0.25, 1.  , 1.  , 0.5 , 0.75, 0.  , 0.  , 0.  , 0.75, 1.  , 0.75])"
      ]
     },
     "execution_count": 5,
     "metadata": {},
     "output_type": "execute_result"
    }
   ],
   "source": [
    "\n",
    "from sklearn import preprocessing\n",
    "\n",
    "def ordinal_encoder(my_array):\n",
    "  label_encoder = preprocessing.LabelEncoder()\n",
    "  label_encoder.fit(np.array(['a','c','g','t','z']))\n",
    "  integer_encoded = label_encoder.transform(my_array)\n",
    "  print(integer_encoded)\n",
    "  float_encoded = integer_encoded.astype(float)\n",
    "  float_encoded[float_encoded == 0] = 0.25 # A\n",
    "  float_encoded[float_encoded == 1] = 0.50 # C\n",
    "  float_encoded[float_encoded == 2] = 0.75 # G\n",
    "  float_encoded[float_encoded == 3] = 1.00 # T\n",
    "  float_encoded[float_encoded == 4] = 0.00 # anything else, lets say z\n",
    "  return float_encoded\n",
    "\n",
    "\n",
    "#Let’s try it out a simple short sequence:\n",
    "seq_test = 'attcgxffgtg'\n",
    "ordinal_encoder(string_to_array(seq_test))"
   ]
  },
  {
   "cell_type": "code",
   "execution_count": 25,
   "metadata": {},
   "outputs": [
    {
     "data": {
      "text/plain": [
       "array([[1, 0, 0, 0, 0],\n",
       "       [0, 0, 0, 1, 0],\n",
       "       [0, 0, 0, 1, 0],\n",
       "       [0, 1, 0, 0, 0],\n",
       "       [0, 0, 0, 0, 1],\n",
       "       [0, 0, 0, 0, 1],\n",
       "       [0, 0, 0, 0, 1],\n",
       "       [0, 0, 0, 0, 1],\n",
       "       [0, 0, 0, 0, 1],\n",
       "       [0, 0, 1, 0, 0],\n",
       "       [0, 0, 0, 1, 0],\n",
       "       [0, 0, 1, 0, 0]])"
      ]
     },
     "execution_count": 25,
     "metadata": {},
     "output_type": "execute_result"
    }
   ],
   "source": [
    "from sklearn.preprocessing import OneHotEncoder\n",
    "def one_hot_encoder(seq_string):\n",
    "    label_encoder = preprocessing.LabelEncoder()\n",
    "    label_encoder.fit(np.array(['a','c','g','t','z']))\n",
    "    int_encoded = label_encoder.transform(seq_string)\n",
    "    onehot_encoder = OneHotEncoder(sparse_output=False, dtype=int)\n",
    "    int_encoded = int_encoded.reshape(len(int_encoded), 1)\n",
    "    onehot_encoded = onehot_encoder.fit_transform(int_encoded)\n",
    "    return onehot_encoded\n",
    "#So let’s try it out with a simple short sequence:\n",
    "seq_test = 'attcxxxzzgtg'\n",
    "one_hot_encoder(string_to_array(seq_test))\n",
    "\n"
   ]
  },
  {
   "cell_type": "code",
   "execution_count": 7,
   "metadata": {},
   "outputs": [],
   "source": [
    "def Kmers_funct(seq, size=6):\n",
    "    return [seq[x:x+size].lower() for x in range(len(seq) - size + 1)]"
   ]
  },
  {
   "cell_type": "code",
   "execution_count": 8,
   "metadata": {},
   "outputs": [],
   "source": [
    "#apply kmers function to all datasets & join all words to list \n",
    "#then add words column & drop sequence column\n",
    "human_dna['words'] = human_dna.apply(lambda x: Kmers_funct(x['sequence']), axis=1)\n",
    "human_dna = human_dna.drop('sequence', axis=1)\n",
    "\n",
    "\n"
   ]
  },
  {
   "cell_type": "code",
   "execution_count": 9,
   "metadata": {},
   "outputs": [
    {
     "data": {
      "text/html": [
       "<div>\n",
       "<style scoped>\n",
       "    .dataframe tbody tr th:only-of-type {\n",
       "        vertical-align: middle;\n",
       "    }\n",
       "\n",
       "    .dataframe tbody tr th {\n",
       "        vertical-align: top;\n",
       "    }\n",
       "\n",
       "    .dataframe thead th {\n",
       "        text-align: right;\n",
       "    }\n",
       "</style>\n",
       "<table border=\"1\" class=\"dataframe\">\n",
       "  <thead>\n",
       "    <tr style=\"text-align: right;\">\n",
       "      <th></th>\n",
       "      <th>class</th>\n",
       "      <th>words</th>\n",
       "    </tr>\n",
       "  </thead>\n",
       "  <tbody>\n",
       "    <tr>\n",
       "      <th>0</th>\n",
       "      <td>4</td>\n",
       "      <td>[atgccc, tgcccc, gcccca, ccccaa, cccaac, ccaac...</td>\n",
       "    </tr>\n",
       "    <tr>\n",
       "      <th>1</th>\n",
       "      <td>4</td>\n",
       "      <td>[atgaac, tgaacg, gaacga, aacgaa, acgaaa, cgaaa...</td>\n",
       "    </tr>\n",
       "    <tr>\n",
       "      <th>2</th>\n",
       "      <td>3</td>\n",
       "      <td>[atgtgt, tgtgtg, gtgtgg, tgtggc, gtggca, tggca...</td>\n",
       "    </tr>\n",
       "    <tr>\n",
       "      <th>3</th>\n",
       "      <td>3</td>\n",
       "      <td>[atgtgt, tgtgtg, gtgtgg, tgtggc, gtggca, tggca...</td>\n",
       "    </tr>\n",
       "    <tr>\n",
       "      <th>4</th>\n",
       "      <td>3</td>\n",
       "      <td>[atgcaa, tgcaac, gcaaca, caacag, aacagc, acagc...</td>\n",
       "    </tr>\n",
       "  </tbody>\n",
       "</table>\n",
       "</div>"
      ],
      "text/plain": [
       "   class                                              words\n",
       "0      4  [atgccc, tgcccc, gcccca, ccccaa, cccaac, ccaac...\n",
       "1      4  [atgaac, tgaacg, gaacga, aacgaa, acgaaa, cgaaa...\n",
       "2      3  [atgtgt, tgtgtg, gtgtgg, tgtggc, gtggca, tggca...\n",
       "3      3  [atgtgt, tgtgtg, gtgtgg, tgtggc, gtggca, tggca...\n",
       "4      3  [atgcaa, tgcaac, gcaaca, caacag, aacagc, acagc..."
      ]
     },
     "execution_count": 9,
     "metadata": {},
     "output_type": "execute_result"
    }
   ],
   "source": [
    "human_dna.head()"
   ]
  },
  {
   "cell_type": "code",
   "execution_count": 10,
   "metadata": {},
   "outputs": [
    {
     "name": "stdout",
     "output_type": "stream",
     "text": [
      "[4 4 3 ... 6 6 6]\n"
     ]
    }
   ],
   "source": [
    "#apply to human\n",
    "human_texts = list(human_dna['words'])\n",
    "for item in range(len(human_texts)):\n",
    "    human_texts[item] = ' '.join(human_texts[item])\n",
    "#separate labels\n",
    "y_human = human_dna.iloc[:, 0].values # y_human for human_dna\n",
    "\n",
    "print(y_human)"
   ]
  },
  {
   "cell_type": "code",
   "execution_count": 11,
   "metadata": {},
   "outputs": [],
   "source": [
    "from sklearn.feature_extraction.text import CountVectorizer\n",
    "cv = CountVectorizer(ngram_range=(4,4)) #The n-gram size of 4 is previously determined by testing\n",
    "X_human = cv.fit_transform(human_texts)\n",
    "\n",
    "\n"
   ]
  },
  {
   "cell_type": "code",
   "execution_count": 12,
   "metadata": {},
   "outputs": [
    {
     "name": "stdout",
     "output_type": "stream",
     "text": [
      "(4380, 232414)\n"
     ]
    }
   ],
   "source": [
    "print(X_human.shape)\n"
   ]
  },
  {
   "cell_type": "code",
   "execution_count": 13,
   "metadata": {},
   "outputs": [],
   "source": [
    "# Splitting the human dataset into the training set and test set with (80% train & 20% test)\n",
    "from sklearn.model_selection import train_test_split\n",
    "X_train, X_test, y_train, y_test = train_test_split(X_human,y_human,test_size = 0.20,random_state=42)"
   ]
  },
  {
   "cell_type": "code",
   "execution_count": 14,
   "metadata": {},
   "outputs": [
    {
     "data": {
      "text/html": [
       "<style>#sk-container-id-1 {color: black;}#sk-container-id-1 pre{padding: 0;}#sk-container-id-1 div.sk-toggleable {background-color: white;}#sk-container-id-1 label.sk-toggleable__label {cursor: pointer;display: block;width: 100%;margin-bottom: 0;padding: 0.3em;box-sizing: border-box;text-align: center;}#sk-container-id-1 label.sk-toggleable__label-arrow:before {content: \"▸\";float: left;margin-right: 0.25em;color: #696969;}#sk-container-id-1 label.sk-toggleable__label-arrow:hover:before {color: black;}#sk-container-id-1 div.sk-estimator:hover label.sk-toggleable__label-arrow:before {color: black;}#sk-container-id-1 div.sk-toggleable__content {max-height: 0;max-width: 0;overflow: hidden;text-align: left;background-color: #f0f8ff;}#sk-container-id-1 div.sk-toggleable__content pre {margin: 0.2em;color: black;border-radius: 0.25em;background-color: #f0f8ff;}#sk-container-id-1 input.sk-toggleable__control:checked~div.sk-toggleable__content {max-height: 200px;max-width: 100%;overflow: auto;}#sk-container-id-1 input.sk-toggleable__control:checked~label.sk-toggleable__label-arrow:before {content: \"▾\";}#sk-container-id-1 div.sk-estimator input.sk-toggleable__control:checked~label.sk-toggleable__label {background-color: #d4ebff;}#sk-container-id-1 div.sk-label input.sk-toggleable__control:checked~label.sk-toggleable__label {background-color: #d4ebff;}#sk-container-id-1 input.sk-hidden--visually {border: 0;clip: rect(1px 1px 1px 1px);clip: rect(1px, 1px, 1px, 1px);height: 1px;margin: -1px;overflow: hidden;padding: 0;position: absolute;width: 1px;}#sk-container-id-1 div.sk-estimator {font-family: monospace;background-color: #f0f8ff;border: 1px dotted black;border-radius: 0.25em;box-sizing: border-box;margin-bottom: 0.5em;}#sk-container-id-1 div.sk-estimator:hover {background-color: #d4ebff;}#sk-container-id-1 div.sk-parallel-item::after {content: \"\";width: 100%;border-bottom: 1px solid gray;flex-grow: 1;}#sk-container-id-1 div.sk-label:hover label.sk-toggleable__label {background-color: #d4ebff;}#sk-container-id-1 div.sk-serial::before {content: \"\";position: absolute;border-left: 1px solid gray;box-sizing: border-box;top: 0;bottom: 0;left: 50%;z-index: 0;}#sk-container-id-1 div.sk-serial {display: flex;flex-direction: column;align-items: center;background-color: white;padding-right: 0.2em;padding-left: 0.2em;position: relative;}#sk-container-id-1 div.sk-item {position: relative;z-index: 1;}#sk-container-id-1 div.sk-parallel {display: flex;align-items: stretch;justify-content: center;background-color: white;position: relative;}#sk-container-id-1 div.sk-item::before, #sk-container-id-1 div.sk-parallel-item::before {content: \"\";position: absolute;border-left: 1px solid gray;box-sizing: border-box;top: 0;bottom: 0;left: 50%;z-index: -1;}#sk-container-id-1 div.sk-parallel-item {display: flex;flex-direction: column;z-index: 1;position: relative;background-color: white;}#sk-container-id-1 div.sk-parallel-item:first-child::after {align-self: flex-end;width: 50%;}#sk-container-id-1 div.sk-parallel-item:last-child::after {align-self: flex-start;width: 50%;}#sk-container-id-1 div.sk-parallel-item:only-child::after {width: 0;}#sk-container-id-1 div.sk-dashed-wrapped {border: 1px dashed gray;margin: 0 0.4em 0.5em 0.4em;box-sizing: border-box;padding-bottom: 0.4em;background-color: white;}#sk-container-id-1 div.sk-label label {font-family: monospace;font-weight: bold;display: inline-block;line-height: 1.2em;}#sk-container-id-1 div.sk-label-container {text-align: center;}#sk-container-id-1 div.sk-container {/* jupyter's `normalize.less` sets `[hidden] { display: none; }` but bootstrap.min.css set `[hidden] { display: none !important; }` so we also need the `!important` here to be able to override the default hidden behavior on the sphinx rendered scikit-learn.org. See: https://github.com/scikit-learn/scikit-learn/issues/21755 */display: inline-block !important;position: relative;}#sk-container-id-1 div.sk-text-repr-fallback {display: none;}</style><div id=\"sk-container-id-1\" class=\"sk-top-container\"><div class=\"sk-text-repr-fallback\"><pre>SVC(kernel=&#x27;linear&#x27;)</pre><b>In a Jupyter environment, please rerun this cell to show the HTML representation or trust the notebook. <br />On GitHub, the HTML representation is unable to render, please try loading this page with nbviewer.org.</b></div><div class=\"sk-container\" hidden><div class=\"sk-item\"><div class=\"sk-estimator sk-toggleable\"><input class=\"sk-toggleable__control sk-hidden--visually\" id=\"sk-estimator-id-1\" type=\"checkbox\" checked><label for=\"sk-estimator-id-1\" class=\"sk-toggleable__label sk-toggleable__label-arrow\">SVC</label><div class=\"sk-toggleable__content\"><pre>SVC(kernel=&#x27;linear&#x27;)</pre></div></div></div></div></div>"
      ],
      "text/plain": [
       "SVC(kernel='linear')"
      ]
     },
     "execution_count": 14,
     "metadata": {},
     "output_type": "execute_result"
    }
   ],
   "source": [
    "#The fit method of SVC class is called to train the algorithm on the training data, \n",
    "#which is passed as a parameter to the fit method\n",
    "from sklearn.svm import SVC\n",
    "svclassifier = SVC(kernel='linear')\n",
    "svclassifier.fit(X_train, y_train)"
   ]
  },
  {
   "cell_type": "code",
   "execution_count": 15,
   "metadata": {},
   "outputs": [
    {
     "data": {
      "text/html": [
       "<style>#sk-container-id-2 {color: black;}#sk-container-id-2 pre{padding: 0;}#sk-container-id-2 div.sk-toggleable {background-color: white;}#sk-container-id-2 label.sk-toggleable__label {cursor: pointer;display: block;width: 100%;margin-bottom: 0;padding: 0.3em;box-sizing: border-box;text-align: center;}#sk-container-id-2 label.sk-toggleable__label-arrow:before {content: \"▸\";float: left;margin-right: 0.25em;color: #696969;}#sk-container-id-2 label.sk-toggleable__label-arrow:hover:before {color: black;}#sk-container-id-2 div.sk-estimator:hover label.sk-toggleable__label-arrow:before {color: black;}#sk-container-id-2 div.sk-toggleable__content {max-height: 0;max-width: 0;overflow: hidden;text-align: left;background-color: #f0f8ff;}#sk-container-id-2 div.sk-toggleable__content pre {margin: 0.2em;color: black;border-radius: 0.25em;background-color: #f0f8ff;}#sk-container-id-2 input.sk-toggleable__control:checked~div.sk-toggleable__content {max-height: 200px;max-width: 100%;overflow: auto;}#sk-container-id-2 input.sk-toggleable__control:checked~label.sk-toggleable__label-arrow:before {content: \"▾\";}#sk-container-id-2 div.sk-estimator input.sk-toggleable__control:checked~label.sk-toggleable__label {background-color: #d4ebff;}#sk-container-id-2 div.sk-label input.sk-toggleable__control:checked~label.sk-toggleable__label {background-color: #d4ebff;}#sk-container-id-2 input.sk-hidden--visually {border: 0;clip: rect(1px 1px 1px 1px);clip: rect(1px, 1px, 1px, 1px);height: 1px;margin: -1px;overflow: hidden;padding: 0;position: absolute;width: 1px;}#sk-container-id-2 div.sk-estimator {font-family: monospace;background-color: #f0f8ff;border: 1px dotted black;border-radius: 0.25em;box-sizing: border-box;margin-bottom: 0.5em;}#sk-container-id-2 div.sk-estimator:hover {background-color: #d4ebff;}#sk-container-id-2 div.sk-parallel-item::after {content: \"\";width: 100%;border-bottom: 1px solid gray;flex-grow: 1;}#sk-container-id-2 div.sk-label:hover label.sk-toggleable__label {background-color: #d4ebff;}#sk-container-id-2 div.sk-serial::before {content: \"\";position: absolute;border-left: 1px solid gray;box-sizing: border-box;top: 0;bottom: 0;left: 50%;z-index: 0;}#sk-container-id-2 div.sk-serial {display: flex;flex-direction: column;align-items: center;background-color: white;padding-right: 0.2em;padding-left: 0.2em;position: relative;}#sk-container-id-2 div.sk-item {position: relative;z-index: 1;}#sk-container-id-2 div.sk-parallel {display: flex;align-items: stretch;justify-content: center;background-color: white;position: relative;}#sk-container-id-2 div.sk-item::before, #sk-container-id-2 div.sk-parallel-item::before {content: \"\";position: absolute;border-left: 1px solid gray;box-sizing: border-box;top: 0;bottom: 0;left: 50%;z-index: -1;}#sk-container-id-2 div.sk-parallel-item {display: flex;flex-direction: column;z-index: 1;position: relative;background-color: white;}#sk-container-id-2 div.sk-parallel-item:first-child::after {align-self: flex-end;width: 50%;}#sk-container-id-2 div.sk-parallel-item:last-child::after {align-self: flex-start;width: 50%;}#sk-container-id-2 div.sk-parallel-item:only-child::after {width: 0;}#sk-container-id-2 div.sk-dashed-wrapped {border: 1px dashed gray;margin: 0 0.4em 0.5em 0.4em;box-sizing: border-box;padding-bottom: 0.4em;background-color: white;}#sk-container-id-2 div.sk-label label {font-family: monospace;font-weight: bold;display: inline-block;line-height: 1.2em;}#sk-container-id-2 div.sk-label-container {text-align: center;}#sk-container-id-2 div.sk-container {/* jupyter's `normalize.less` sets `[hidden] { display: none; }` but bootstrap.min.css set `[hidden] { display: none !important; }` so we also need the `!important` here to be able to override the default hidden behavior on the sphinx rendered scikit-learn.org. See: https://github.com/scikit-learn/scikit-learn/issues/21755 */display: inline-block !important;position: relative;}#sk-container-id-2 div.sk-text-repr-fallback {display: none;}</style><div id=\"sk-container-id-2\" class=\"sk-top-container\"><div class=\"sk-text-repr-fallback\"><pre>KNeighborsClassifier()</pre><b>In a Jupyter environment, please rerun this cell to show the HTML representation or trust the notebook. <br />On GitHub, the HTML representation is unable to render, please try loading this page with nbviewer.org.</b></div><div class=\"sk-container\" hidden><div class=\"sk-item\"><div class=\"sk-estimator sk-toggleable\"><input class=\"sk-toggleable__control sk-hidden--visually\" id=\"sk-estimator-id-2\" type=\"checkbox\" checked><label for=\"sk-estimator-id-2\" class=\"sk-toggleable__label sk-toggleable__label-arrow\">KNeighborsClassifier</label><div class=\"sk-toggleable__content\"><pre>KNeighborsClassifier()</pre></div></div></div></div></div>"
      ],
      "text/plain": [
       "KNeighborsClassifier()"
      ]
     },
     "execution_count": 15,
     "metadata": {},
     "output_type": "execute_result"
    }
   ],
   "source": [
    "#The fit method of KNN class is called to train the algorithm on the training data, \n",
    "#which is passed as a parameter to the fit method\n",
    "from sklearn.neighbors import KNeighborsClassifier\n",
    "KNNclassifier = KNeighborsClassifier(n_neighbors=5)\n",
    "KNNclassifier.fit(X_train, y_train)"
   ]
  },
  {
   "cell_type": "code",
   "execution_count": 16,
   "metadata": {},
   "outputs": [],
   "source": [
    "# enter all test datatest in model  \n",
    "y_pred_svc = svclassifier.predict(X_test)"
   ]
  },
  {
   "cell_type": "code",
   "execution_count": 17,
   "metadata": {},
   "outputs": [],
   "source": [
    "# enter all test datatest in model \n",
    "y_pred_knn = KNNclassifier.predict(X_test) "
   ]
  },
  {
   "cell_type": "code",
   "execution_count": 18,
   "metadata": {},
   "outputs": [
    {
     "name": "stdout",
     "output_type": "stream",
     "text": [
      "SVM MODEL\n",
      "[[ 86   1   0   2   3   0  10]\n",
      " [  0  95   0   1   0   0  10]\n",
      " [  0   1  68   2   0   0   7]\n",
      " [  0   0   0 114   1   0  10]\n",
      " [  1   0   0   1 130   0  17]\n",
      " [  0   0   0   0   0  42   9]\n",
      " [  0   0   0   0   0   0 265]]\n",
      "              precision    recall  f1-score   support\n",
      "\n",
      "           0       0.99      0.84      0.91       102\n",
      "           1       0.98      0.90      0.94       106\n",
      "           2       1.00      0.87      0.93        78\n",
      "           3       0.95      0.91      0.93       125\n",
      "           4       0.97      0.87      0.92       149\n",
      "           5       1.00      0.82      0.90        51\n",
      "           6       0.81      1.00      0.89       265\n",
      "\n",
      "    accuracy                           0.91       876\n",
      "   macro avg       0.96      0.89      0.92       876\n",
      "weighted avg       0.93      0.91      0.91       876\n",
      "\n"
     ]
    }
   ],
   "source": [
    "from sklearn.metrics import classification_report, confusion_matrix\n",
    "print(\"SVM MODEL\")\n",
    "print(confusion_matrix(y_test,y_pred_svc))\n",
    "print(classification_report(y_test,y_pred_svc))"
   ]
  },
  {
   "cell_type": "code",
   "execution_count": 19,
   "metadata": {},
   "outputs": [
    {
     "name": "stdout",
     "output_type": "stream",
     "text": [
      "KNN MODEL\n",
      "[[ 74   0   0   0   0   0  28]\n",
      " [  0  84   0   0   0   0  22]\n",
      " [  6   0  61   0   0   0  11]\n",
      " [  0   0   0 106   0   0  19]\n",
      " [ 10   0   0   0  98   0  41]\n",
      " [  3   0   0   0   0  34  14]\n",
      " [  0   0   0   0   0   0 265]]\n",
      "              precision    recall  f1-score   support\n",
      "\n",
      "           0       0.80      0.73      0.76       102\n",
      "           1       1.00      0.79      0.88       106\n",
      "           2       1.00      0.78      0.88        78\n",
      "           3       1.00      0.85      0.92       125\n",
      "           4       1.00      0.66      0.79       149\n",
      "           5       1.00      0.67      0.80        51\n",
      "           6       0.66      1.00      0.80       265\n",
      "\n",
      "    accuracy                           0.82       876\n",
      "   macro avg       0.92      0.78      0.83       876\n",
      "weighted avg       0.87      0.82      0.83       876\n",
      "\n"
     ]
    }
   ],
   "source": [
    "from sklearn.metrics import classification_report, confusion_matrix\n",
    "print(\"KNN MODEL\")\n",
    "print(confusion_matrix(y_test,y_pred_knn))\n",
    "print(classification_report(y_test,y_pred_knn))"
   ]
  },
  {
   "cell_type": "code",
   "execution_count": 31,
   "metadata": {},
   "outputs": [
    {
     "name": "stdout",
     "output_type": "stream",
     "text": [
      "\n",
      "Human Results (Random Forest):\n",
      "[[ 95   1   0   2   1   0   3]\n",
      " [  3  95   0   3   1   0   4]\n",
      " [  1   0  71   1   0   0   5]\n",
      " [  1   0   0 119   0   0   5]\n",
      " [  7   0   0   3 133   0   6]\n",
      " [  3   0   0   3   0  41   4]\n",
      " [ 11   0   0   1   0   0 253]]\n",
      "              precision    recall  f1-score   support\n",
      "\n",
      "           0       0.79      0.93      0.85       102\n",
      "           1       0.99      0.90      0.94       106\n",
      "           2       1.00      0.91      0.95        78\n",
      "           3       0.90      0.95      0.93       125\n",
      "           4       0.99      0.89      0.94       149\n",
      "           5       1.00      0.80      0.89        51\n",
      "           6       0.90      0.95      0.93       265\n",
      "\n",
      "    accuracy                           0.92       876\n",
      "   macro avg       0.94      0.91      0.92       876\n",
      "weighted avg       0.93      0.92      0.92       876\n",
      "\n"
     ]
    }
   ],
   "source": [
    "from sklearn.ensemble import RandomForestClassifier\n",
    "\n",
    "\n",
    "# Apply Random Forest to Human Data\n",
    "rf_classifier = RandomForestClassifier(n_estimators=100, random_state=42)\n",
    "rf_classifier.fit(X_train, y_train)\n",
    "y_pred_rf_human = rf_classifier.predict(X_test)\n",
    "\n",
    "# Evaluate Random Forest Results for Human Data\n",
    "print(\"\\nHuman Results (Random Forest):\")\n",
    "print(confusion_matrix(y_test, y_pred_rf_human))\n",
    "print(classification_report(y_test, y_pred_rf_human))"
   ]
  },
  {
   "cell_type": "code",
   "execution_count": 26,
   "metadata": {},
   "outputs": [
    {
     "data": {
      "image/png": "[encoded data removed]",
      "text/plain": [
       "<Figure size 432x288 with 1 Axes>"
      ]
     },
     "metadata": {
      "needs_background": "light"
     },
     "output_type": "display_data"
    }
   ],
   "source": [
    "# Load Chimpanzee Data\n",
    "chimp_dna = pd.read_table('chimp_data.txt')\n",
    "chimp_dna['class'].value_counts().sort_index().plot.bar()\n",
    "plt.title(\"Class distribution of Chimpanzee NA\")\n",
    "plt.show()"
   ]
  },
  {
   "cell_type": "code",
   "execution_count": 27,
   "metadata": {},
   "outputs": [
    {
     "name": "stdout",
     "output_type": "stream",
     "text": [
      "\n",
      "Chimpanzee Results:\n",
      "SVM Results:\n",
      "[[ 26   1   0   0   0   0   1]\n",
      " [  0  37   0   1   0   0   1]\n",
      " [  0   0  27   0   0   0   0]\n",
      " [  0   0   0  42   0   0   1]\n",
      " [  0   0   0   0  51   0   1]\n",
      " [  0   0   0   0   0  29   0]\n",
      " [  0   0   0   0   0   0 119]]\n",
      "              precision    recall  f1-score   support\n",
      "\n",
      "           0       1.00      0.93      0.96        28\n",
      "           1       0.97      0.95      0.96        39\n",
      "           2       1.00      1.00      1.00        27\n",
      "           3       0.98      0.98      0.98        43\n",
      "           4       1.00      0.98      0.99        52\n",
      "           5       1.00      1.00      1.00        29\n",
      "           6       0.97      1.00      0.98       119\n",
      "\n",
      "    accuracy                           0.98       337\n",
      "   macro avg       0.99      0.98      0.98       337\n",
      "weighted avg       0.98      0.98      0.98       337\n",
      "\n",
      "K-NN Results:\n",
      "[[ 25   0   0   0   0   0   3]\n",
      " [  0  34   0   0   0   0   5]\n",
      " [  0   0  26   0   0   0   1]\n",
      " [  0   0   0  42   0   0   1]\n",
      " [  2   0   0   0  44   0   6]\n",
      " [  2   0   0   0   0  26   1]\n",
      " [  0   0   0   0   0   0 119]]\n",
      "              precision    recall  f1-score   support\n",
      "\n",
      "           0       0.86      0.89      0.88        28\n",
      "           1       1.00      0.87      0.93        39\n",
      "           2       1.00      0.96      0.98        27\n",
      "           3       1.00      0.98      0.99        43\n",
      "           4       1.00      0.85      0.92        52\n",
      "           5       1.00      0.90      0.95        29\n",
      "           6       0.88      1.00      0.93       119\n",
      "\n",
      "    accuracy                           0.94       337\n",
      "   macro avg       0.96      0.92      0.94       337\n",
      "weighted avg       0.94      0.94      0.94       337\n",
      "\n"
     ]
    }
   ],
   "source": [
    "chimp_dna['words'] = chimp_dna.apply(lambda x: Kmers_funct(x['sequence']), axis=1)\n",
    "chimp_dna = chimp_dna.drop('sequence', axis=1)\n",
    "\n",
    "# Convert k-mer words to numerical features using CountVectorizer\n",
    "chimp_texts = list(chimp_dna['words'])\n",
    "for item in range(len(chimp_texts)):\n",
    "    chimp_texts[item] = ' '.join(chimp_texts[item])\n",
    "\n",
    "X_chimp = cv.transform(chimp_texts)\n",
    "\n",
    "# Split the chimp dataset into training and test sets\n",
    "X_train_chimp, X_test_chimp, y_train_chimp, y_test_chimp = train_test_split(X_chimp, chimp_dna['class'], test_size=0.20, random_state=42)\n",
    "\n",
    "# Apply SVM and KNN to Chimp Data\n",
    "y_pred_svm_chimp = svclassifier.predict(X_test_chimp)\n",
    "y_pred_knn_chimp = KNNclassifier.predict(X_test_chimp)\n",
    "\n",
    "# Evaluate Chimp Results\n",
    "print(\"\\nChimpanzee Results:\")\n",
    "print(\"SVM Results:\")\n",
    "print(confusion_matrix(y_test_chimp, y_pred_svm_chimp))\n",
    "print(classification_report(y_test_chimp, y_pred_svm_chimp))\n",
    "\n",
    "print(\"K-NN Results:\")\n",
    "print(confusion_matrix(y_test_chimp, y_pred_knn_chimp))\n",
    "print(classification_report(y_test_chimp, y_pred_knn_chimp))"
   ]
  },
  {
   "cell_type": "code",
   "execution_count": 32,
   "metadata": {},
   "outputs": [
    {
     "name": "stdout",
     "output_type": "stream",
     "text": [
      "\n",
      "Chimpanzee Results (Random Forest):\n",
      "[[ 28   0   0   0   0   0   0]\n",
      " [  0  39   0   0   0   0   0]\n",
      " [  0   0  27   0   0   0   0]\n",
      " [  0   0   0  43   0   0   0]\n",
      " [  1   0   0   2  48   0   1]\n",
      " [  0   0   0   1   0  28   0]\n",
      " [  0   0   0   0   0   0 119]]\n",
      "              precision    recall  f1-score   support\n",
      "\n",
      "           0       0.97      1.00      0.98        28\n",
      "           1       1.00      1.00      1.00        39\n",
      "           2       1.00      1.00      1.00        27\n",
      "           3       0.93      1.00      0.97        43\n",
      "           4       1.00      0.92      0.96        52\n",
      "           5       1.00      0.97      0.98        29\n",
      "           6       0.99      1.00      1.00       119\n",
      "\n",
      "    accuracy                           0.99       337\n",
      "   macro avg       0.98      0.98      0.98       337\n",
      "weighted avg       0.99      0.99      0.99       337\n",
      "\n"
     ]
    }
   ],
   "source": [
    "# Apply Random Forest to Chimpanzee Data\n",
    "y_pred_rf_chimp = rf_classifier.predict(X_test_chimp)\n",
    "\n",
    "# Evaluate Random Forest Results for Chimpanzee Data\n",
    "print(\"\\nChimpanzee Results (Random Forest):\")\n",
    "print(confusion_matrix(y_test_chimp, y_pred_rf_chimp))\n",
    "print(classification_report(y_test_chimp, y_pred_rf_chimp))"
   ]
  },
  {
   "cell_type": "code",
   "execution_count": 28,
   "metadata": {},
   "outputs": [
    {
     "data": {
      "image/png": "[encoded data removed]",
      "text/plain": [
       "<Figure size 432x288 with 1 Axes>"
      ]
     },
     "metadata": {
      "needs_background": "light"
     },
     "output_type": "display_data"
    }
   ],
   "source": [
    "# Load Dog Data\n",
    "dog_dna = pd.read_table('dog_data.txt')\n",
    "dog_dna['class'].value_counts().sort_index().plot.bar()\n",
    "plt.title(\"Class distribution of Dog NA\")\n",
    "plt.show()"
   ]
  },
  {
   "cell_type": "code",
   "execution_count": 29,
   "metadata": {},
   "outputs": [
    {
     "name": "stdout",
     "output_type": "stream",
     "text": [
      "\n",
      "Dog Results:\n",
      "SVM Results:\n",
      "[[19  0  0  0  6  0  2]\n",
      " [ 0 16  0  0  2  0  1]\n",
      " [ 0  0 14  0  0  0  0]\n",
      " [ 0  0  0  7  9  0  0]\n",
      " [ 0  0  0  0 21  0  2]\n",
      " [ 0  0  0  0  2  9  2]\n",
      " [ 0  0  0  0  1  1 50]]\n",
      "              precision    recall  f1-score   support\n",
      "\n",
      "           0       1.00      0.70      0.83        27\n",
      "           1       1.00      0.84      0.91        19\n",
      "           2       1.00      1.00      1.00        14\n",
      "           3       1.00      0.44      0.61        16\n",
      "           4       0.51      0.91      0.66        23\n",
      "           5       0.90      0.69      0.78        13\n",
      "           6       0.88      0.96      0.92        52\n",
      "\n",
      "    accuracy                           0.83       164\n",
      "   macro avg       0.90      0.79      0.82       164\n",
      "weighted avg       0.88      0.83      0.83       164\n",
      "\n",
      "K-NN Results:\n",
      "[[ 3  0  0  0  0  0 24]\n",
      " [ 0  4  0  0  0  0 15]\n",
      " [ 1  0  5  0  0  0  8]\n",
      " [ 0  0  0  2  0  0 14]\n",
      " [ 1  0  0  0  4  0 18]\n",
      " [ 2  0  0  0  0  3  8]\n",
      " [ 0  0  0  0  0  0 52]]\n",
      "              precision    recall  f1-score   support\n",
      "\n",
      "           0       0.43      0.11      0.18        27\n",
      "           1       1.00      0.21      0.35        19\n",
      "           2       1.00      0.36      0.53        14\n",
      "           3       1.00      0.12      0.22        16\n",
      "           4       1.00      0.17      0.30        23\n",
      "           5       1.00      0.23      0.38        13\n",
      "           6       0.37      1.00      0.54        52\n",
      "\n",
      "    accuracy                           0.45       164\n",
      "   macro avg       0.83      0.32      0.36       164\n",
      "weighted avg       0.71      0.45      0.38       164\n",
      "\n"
     ]
    }
   ],
   "source": [
    "dog_dna['words'] = dog_dna.apply(lambda x: Kmers_funct(x['sequence']), axis=1)\n",
    "dog_dna = dog_dna.drop('sequence', axis=1)\n",
    "\n",
    "# Convert k-mer words to numerical features using CountVectorizer\n",
    "dog_texts = list(dog_dna['words'])\n",
    "for item in range(len(dog_texts)):\n",
    "    dog_texts[item] = ' '.join(dog_texts[item])\n",
    "\n",
    "X_dog = cv.transform(dog_texts)\n",
    "\n",
    "# Split the dog dataset into training and test sets\n",
    "X_train_dog, X_test_dog, y_train_dog, y_test_dog = train_test_split(X_dog, dog_dna['class'], test_size=0.20, random_state=42)\n",
    "\n",
    "# Apply SVM and KNN to Dog Data\n",
    "y_pred_svm_dog = svclassifier.predict(X_test_dog)\n",
    "y_pred_knn_dog = KNNclassifier.predict(X_test_dog)\n",
    "\n",
    "# Evaluate Dog Results\n",
    "print(\"\\nDog Results:\")\n",
    "print(\"SVM Results:\")\n",
    "print(confusion_matrix(y_test_dog, y_pred_svm_dog))\n",
    "print(classification_report(y_test_dog, y_pred_svm_dog))\n",
    "\n",
    "print(\"K-NN Results:\")\n",
    "print(confusion_matrix(y_test_dog, y_pred_knn_dog))\n",
    "print(classification_report(y_test_dog, y_pred_knn_dog))"
   ]
  },
  {
   "cell_type": "code",
   "execution_count": 33,
   "metadata": {},
   "outputs": [
    {
     "name": "stdout",
     "output_type": "stream",
     "text": [
      "\n",
      "Dog Results (Random Forest):\n",
      "[[23  0  0  2  1  0  1]\n",
      " [ 0 15  0  1  0  0  3]\n",
      " [ 0  0 12  0  0  0  2]\n",
      " [ 0  0  0 15  0  0  1]\n",
      " [ 0  0  0  3 18  0  2]\n",
      " [ 5  0  0  1  0  5  2]\n",
      " [ 0  0  0  1  0  0 51]]\n",
      "              precision    recall  f1-score   support\n",
      "\n",
      "           0       0.82      0.85      0.84        27\n",
      "           1       1.00      0.79      0.88        19\n",
      "           2       1.00      0.86      0.92        14\n",
      "           3       0.65      0.94      0.77        16\n",
      "           4       0.95      0.78      0.86        23\n",
      "           5       1.00      0.38      0.56        13\n",
      "           6       0.82      0.98      0.89        52\n",
      "\n",
      "    accuracy                           0.85       164\n",
      "   macro avg       0.89      0.80      0.82       164\n",
      "weighted avg       0.87      0.85      0.84       164\n",
      "\n"
     ]
    }
   ],
   "source": [
    "# Apply Random Forest to Dog Data\n",
    "y_pred_rf_dog = rf_classifier.predict(X_test_dog)\n",
    "\n",
    "# Evaluate Random Forest Results for Dog Data\n",
    "print(\"\\nDog Results (Random Forest):\")\n",
    "print(confusion_matrix(y_test_dog, y_pred_rf_dog))\n",
    "print(classification_report(y_test_dog, y_pred_rf_dog))"
   ]
  },
  {
   "cell_type": "code",
   "execution_count": null,
   "metadata": {},
   "outputs": [],
   "source": []
  }
 ],
 "metadata": {
  "kernelspec": {
   "display_name": "Python 3",
   "language": "python",
   "name": "python3"
  },
  "language_info": {
   "codemirror_mode": {
    "name": "ipython",
    "version": 3
   },
   "file_extension": ".py",
   "mimetype": "text/x-python",
   "name": "python",
   "nbconvert_exporter": "python",
   "pygments_lexer": "ipython3",
   "version": "3.8.5"
  },
  "widgets": {
   "application/vnd.jupyter.widget-state+json": {
    "state": {},
    "version_major": 2,
    "version_minor": 0
   }
  }
 },
 "nbformat": 4,
 "nbformat_minor": 4
}
